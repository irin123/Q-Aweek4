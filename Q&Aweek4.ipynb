{
 "cells": [
  {
   "cell_type": "code",
   "execution_count": 1,
   "id": "da32e5ed",
   "metadata": {},
   "outputs": [],
   "source": [
    "import pandas as pd\n",
    "import numpy as np\n",
    "import matplotlib.pyplot as plt\n",
    "import seaborn as sns"
   ]
  },
  {
   "cell_type": "code",
   "execution_count": 4,
   "id": "e7442375",
   "metadata": {},
   "outputs": [],
   "source": [
    "df=pd.read_excel('Telco-Customer-Churn.xlsx')\n",
    "import warnings\n",
    "warnings.filterwarnings('ignore')"
   ]
  },
  {
   "cell_type": "code",
   "execution_count": 3,
   "id": "3fd842ef",
   "metadata": {},
   "outputs": [
    {
     "data": {
      "text/html": [
       "<div>\n",
       "<style scoped>\n",
       "    .dataframe tbody tr th:only-of-type {\n",
       "        vertical-align: middle;\n",
       "    }\n",
       "\n",
       "    .dataframe tbody tr th {\n",
       "        vertical-align: top;\n",
       "    }\n",
       "\n",
       "    .dataframe thead th {\n",
       "        text-align: right;\n",
       "    }\n",
       "</style>\n",
       "<table border=\"1\" class=\"dataframe\">\n",
       "  <thead>\n",
       "    <tr style=\"text-align: right;\">\n",
       "      <th></th>\n",
       "      <th>customerID</th>\n",
       "      <th>gender</th>\n",
       "      <th>SeniorCitizen</th>\n",
       "      <th>Partner</th>\n",
       "      <th>Dependents</th>\n",
       "      <th>tenure</th>\n",
       "      <th>PhoneService</th>\n",
       "      <th>MultipleLines</th>\n",
       "      <th>InternetService</th>\n",
       "      <th>OnlineSecurity</th>\n",
       "      <th>...</th>\n",
       "      <th>DeviceProtection</th>\n",
       "      <th>TechSupport</th>\n",
       "      <th>StreamingTV</th>\n",
       "      <th>StreamingMovies</th>\n",
       "      <th>Contract</th>\n",
       "      <th>PaperlessBilling</th>\n",
       "      <th>PaymentMethod</th>\n",
       "      <th>MonthlyCharges</th>\n",
       "      <th>TotalCharges</th>\n",
       "      <th>Churn</th>\n",
       "    </tr>\n",
       "  </thead>\n",
       "  <tbody>\n",
       "    <tr>\n",
       "      <th>0</th>\n",
       "      <td>7590-VHVEG</td>\n",
       "      <td>Female</td>\n",
       "      <td>0.0</td>\n",
       "      <td>Yes</td>\n",
       "      <td>No</td>\n",
       "      <td>1.0</td>\n",
       "      <td>No</td>\n",
       "      <td>No phone service</td>\n",
       "      <td>DSL</td>\n",
       "      <td>No</td>\n",
       "      <td>...</td>\n",
       "      <td>No</td>\n",
       "      <td>No</td>\n",
       "      <td>No</td>\n",
       "      <td>No</td>\n",
       "      <td>Month-to-month</td>\n",
       "      <td>Yes</td>\n",
       "      <td>Electronic check</td>\n",
       "      <td>29.85</td>\n",
       "      <td>29.85</td>\n",
       "      <td>No</td>\n",
       "    </tr>\n",
       "    <tr>\n",
       "      <th>1</th>\n",
       "      <td>5575-GNVDE</td>\n",
       "      <td>Male</td>\n",
       "      <td>0.0</td>\n",
       "      <td>No</td>\n",
       "      <td>No</td>\n",
       "      <td>34.0</td>\n",
       "      <td>Yes</td>\n",
       "      <td>No</td>\n",
       "      <td>DSL</td>\n",
       "      <td>Yes</td>\n",
       "      <td>...</td>\n",
       "      <td>Yes</td>\n",
       "      <td>No</td>\n",
       "      <td>No</td>\n",
       "      <td>No</td>\n",
       "      <td>One year</td>\n",
       "      <td>No</td>\n",
       "      <td>Mailed check</td>\n",
       "      <td>56.95</td>\n",
       "      <td>1889.50</td>\n",
       "      <td>No</td>\n",
       "    </tr>\n",
       "    <tr>\n",
       "      <th>2</th>\n",
       "      <td>3668-QPYBK</td>\n",
       "      <td>Male</td>\n",
       "      <td>0.0</td>\n",
       "      <td>No</td>\n",
       "      <td>No</td>\n",
       "      <td>2.0</td>\n",
       "      <td>Yes</td>\n",
       "      <td>No</td>\n",
       "      <td>DSL</td>\n",
       "      <td>Yes</td>\n",
       "      <td>...</td>\n",
       "      <td>No</td>\n",
       "      <td>No</td>\n",
       "      <td>No</td>\n",
       "      <td>No</td>\n",
       "      <td>Month-to-month</td>\n",
       "      <td>Yes</td>\n",
       "      <td>Mailed check</td>\n",
       "      <td>53.85</td>\n",
       "      <td>108.15</td>\n",
       "      <td>Yes</td>\n",
       "    </tr>\n",
       "    <tr>\n",
       "      <th>3</th>\n",
       "      <td>7795-CFOCW</td>\n",
       "      <td>Male</td>\n",
       "      <td>0.0</td>\n",
       "      <td>No</td>\n",
       "      <td>No</td>\n",
       "      <td>45.0</td>\n",
       "      <td>No</td>\n",
       "      <td>No phone service</td>\n",
       "      <td>DSL</td>\n",
       "      <td>Yes</td>\n",
       "      <td>...</td>\n",
       "      <td>Yes</td>\n",
       "      <td>Yes</td>\n",
       "      <td>No</td>\n",
       "      <td>No</td>\n",
       "      <td>One year</td>\n",
       "      <td>No</td>\n",
       "      <td>Bank transfer (automatic)</td>\n",
       "      <td>42.30</td>\n",
       "      <td>1840.75</td>\n",
       "      <td>No</td>\n",
       "    </tr>\n",
       "    <tr>\n",
       "      <th>4</th>\n",
       "      <td>9237-HQITU</td>\n",
       "      <td>Female</td>\n",
       "      <td>0.0</td>\n",
       "      <td>No</td>\n",
       "      <td>No</td>\n",
       "      <td>2.0</td>\n",
       "      <td>Yes</td>\n",
       "      <td>No</td>\n",
       "      <td>Fiber optic</td>\n",
       "      <td>No</td>\n",
       "      <td>...</td>\n",
       "      <td>No</td>\n",
       "      <td>No</td>\n",
       "      <td>No</td>\n",
       "      <td>No</td>\n",
       "      <td>Month-to-month</td>\n",
       "      <td>Yes</td>\n",
       "      <td>Electronic check</td>\n",
       "      <td>70.70</td>\n",
       "      <td>151.65</td>\n",
       "      <td>Yes</td>\n",
       "    </tr>\n",
       "    <tr>\n",
       "      <th>...</th>\n",
       "      <td>...</td>\n",
       "      <td>...</td>\n",
       "      <td>...</td>\n",
       "      <td>...</td>\n",
       "      <td>...</td>\n",
       "      <td>...</td>\n",
       "      <td>...</td>\n",
       "      <td>...</td>\n",
       "      <td>...</td>\n",
       "      <td>...</td>\n",
       "      <td>...</td>\n",
       "      <td>...</td>\n",
       "      <td>...</td>\n",
       "      <td>...</td>\n",
       "      <td>...</td>\n",
       "      <td>...</td>\n",
       "      <td>...</td>\n",
       "      <td>...</td>\n",
       "      <td>...</td>\n",
       "      <td>...</td>\n",
       "      <td>...</td>\n",
       "    </tr>\n",
       "    <tr>\n",
       "      <th>95</th>\n",
       "      <td>8637-XJIVR</td>\n",
       "      <td>Female</td>\n",
       "      <td>0.0</td>\n",
       "      <td>No</td>\n",
       "      <td>No</td>\n",
       "      <td>12.0</td>\n",
       "      <td>Yes</td>\n",
       "      <td>Yes</td>\n",
       "      <td>Fiber optic</td>\n",
       "      <td>Yes</td>\n",
       "      <td>...</td>\n",
       "      <td>No</td>\n",
       "      <td>No</td>\n",
       "      <td>No</td>\n",
       "      <td>No</td>\n",
       "      <td>Month-to-month</td>\n",
       "      <td>Yes</td>\n",
       "      <td>Electronic check</td>\n",
       "      <td>78.95</td>\n",
       "      <td>927.35</td>\n",
       "      <td>Yes</td>\n",
       "    </tr>\n",
       "    <tr>\n",
       "      <th>96</th>\n",
       "      <td>9803-FTJCG</td>\n",
       "      <td>Male</td>\n",
       "      <td>0.0</td>\n",
       "      <td>Yes</td>\n",
       "      <td>Yes</td>\n",
       "      <td>71.0</td>\n",
       "      <td>Yes</td>\n",
       "      <td>Yes</td>\n",
       "      <td>DSL</td>\n",
       "      <td>Yes</td>\n",
       "      <td>...</td>\n",
       "      <td>No</td>\n",
       "      <td>Yes</td>\n",
       "      <td>No</td>\n",
       "      <td>No</td>\n",
       "      <td>One year</td>\n",
       "      <td>Yes</td>\n",
       "      <td>Credit card (automatic)</td>\n",
       "      <td>66.85</td>\n",
       "      <td>4748.70</td>\n",
       "      <td>No</td>\n",
       "    </tr>\n",
       "    <tr>\n",
       "      <th>97</th>\n",
       "      <td>0278-YXOOG</td>\n",
       "      <td>Male</td>\n",
       "      <td>0.0</td>\n",
       "      <td>No</td>\n",
       "      <td>No</td>\n",
       "      <td>5.0</td>\n",
       "      <td>Yes</td>\n",
       "      <td>No</td>\n",
       "      <td>No</td>\n",
       "      <td>No internet service</td>\n",
       "      <td>...</td>\n",
       "      <td>No internet service</td>\n",
       "      <td>No internet service</td>\n",
       "      <td>No internet service</td>\n",
       "      <td>No internet service</td>\n",
       "      <td>Month-to-month</td>\n",
       "      <td>No</td>\n",
       "      <td>Mailed check</td>\n",
       "      <td>21.05</td>\n",
       "      <td>113.85</td>\n",
       "      <td>Yes</td>\n",
       "    </tr>\n",
       "    <tr>\n",
       "      <th>98</th>\n",
       "      <td>3212-KXOCR</td>\n",
       "      <td>Male</td>\n",
       "      <td>0.0</td>\n",
       "      <td>No</td>\n",
       "      <td>No</td>\n",
       "      <td>52.0</td>\n",
       "      <td>Yes</td>\n",
       "      <td>No</td>\n",
       "      <td>No</td>\n",
       "      <td>No internet service</td>\n",
       "      <td>...</td>\n",
       "      <td>No internet service</td>\n",
       "      <td>No internet service</td>\n",
       "      <td>No internet service</td>\n",
       "      <td>No internet service</td>\n",
       "      <td>Two year</td>\n",
       "      <td>No</td>\n",
       "      <td>Bank transfer (automatic)</td>\n",
       "      <td>21.00</td>\n",
       "      <td>1107.20</td>\n",
       "      <td>No</td>\n",
       "    </tr>\n",
       "    <tr>\n",
       "      <th>99</th>\n",
       "      <td>4598-XLKNJ</td>\n",
       "      <td>Female</td>\n",
       "      <td>1.0</td>\n",
       "      <td>Yes</td>\n",
       "      <td>No</td>\n",
       "      <td>25.0</td>\n",
       "      <td>Yes</td>\n",
       "      <td>No</td>\n",
       "      <td>Fiber optic</td>\n",
       "      <td>No</td>\n",
       "      <td>...</td>\n",
       "      <td>Yes</td>\n",
       "      <td>No</td>\n",
       "      <td>Yes</td>\n",
       "      <td>Yes</td>\n",
       "      <td>Month-to-month</td>\n",
       "      <td>Yes</td>\n",
       "      <td>Electronic check</td>\n",
       "      <td>98.50</td>\n",
       "      <td>2514.50</td>\n",
       "      <td>Yes</td>\n",
       "    </tr>\n",
       "  </tbody>\n",
       "</table>\n",
       "<p>100 rows × 21 columns</p>\n",
       "</div>"
      ],
      "text/plain": [
       "    customerID  gender  SeniorCitizen Partner Dependents  tenure PhoneService  \\\n",
       "0   7590-VHVEG  Female            0.0     Yes         No     1.0           No   \n",
       "1   5575-GNVDE    Male            0.0      No         No    34.0          Yes   \n",
       "2   3668-QPYBK    Male            0.0      No         No     2.0          Yes   \n",
       "3   7795-CFOCW    Male            0.0      No         No    45.0           No   \n",
       "4   9237-HQITU  Female            0.0      No         No     2.0          Yes   \n",
       "..         ...     ...            ...     ...        ...     ...          ...   \n",
       "95  8637-XJIVR  Female            0.0      No         No    12.0          Yes   \n",
       "96  9803-FTJCG    Male            0.0     Yes        Yes    71.0          Yes   \n",
       "97  0278-YXOOG    Male            0.0      No         No     5.0          Yes   \n",
       "98  3212-KXOCR    Male            0.0      No         No    52.0          Yes   \n",
       "99  4598-XLKNJ  Female            1.0     Yes         No    25.0          Yes   \n",
       "\n",
       "       MultipleLines InternetService       OnlineSecurity  ...  \\\n",
       "0   No phone service             DSL                   No  ...   \n",
       "1                 No             DSL                  Yes  ...   \n",
       "2                 No             DSL                  Yes  ...   \n",
       "3   No phone service             DSL                  Yes  ...   \n",
       "4                 No     Fiber optic                   No  ...   \n",
       "..               ...             ...                  ...  ...   \n",
       "95               Yes     Fiber optic                  Yes  ...   \n",
       "96               Yes             DSL                  Yes  ...   \n",
       "97                No              No  No internet service  ...   \n",
       "98                No              No  No internet service  ...   \n",
       "99                No     Fiber optic                   No  ...   \n",
       "\n",
       "       DeviceProtection          TechSupport          StreamingTV  \\\n",
       "0                    No                   No                   No   \n",
       "1                   Yes                   No                   No   \n",
       "2                    No                   No                   No   \n",
       "3                   Yes                  Yes                   No   \n",
       "4                    No                   No                   No   \n",
       "..                  ...                  ...                  ...   \n",
       "95                   No                   No                   No   \n",
       "96                   No                  Yes                   No   \n",
       "97  No internet service  No internet service  No internet service   \n",
       "98  No internet service  No internet service  No internet service   \n",
       "99                  Yes                   No                  Yes   \n",
       "\n",
       "        StreamingMovies        Contract PaperlessBilling  \\\n",
       "0                    No  Month-to-month              Yes   \n",
       "1                    No        One year               No   \n",
       "2                    No  Month-to-month              Yes   \n",
       "3                    No        One year               No   \n",
       "4                    No  Month-to-month              Yes   \n",
       "..                  ...             ...              ...   \n",
       "95                   No  Month-to-month              Yes   \n",
       "96                   No        One year              Yes   \n",
       "97  No internet service  Month-to-month               No   \n",
       "98  No internet service        Two year               No   \n",
       "99                  Yes  Month-to-month              Yes   \n",
       "\n",
       "                PaymentMethod MonthlyCharges  TotalCharges  Churn  \n",
       "0            Electronic check          29.85         29.85     No  \n",
       "1                Mailed check          56.95       1889.50     No  \n",
       "2                Mailed check          53.85        108.15    Yes  \n",
       "3   Bank transfer (automatic)          42.30       1840.75     No  \n",
       "4            Electronic check          70.70        151.65    Yes  \n",
       "..                        ...            ...           ...    ...  \n",
       "95           Electronic check          78.95        927.35    Yes  \n",
       "96    Credit card (automatic)          66.85       4748.70     No  \n",
       "97               Mailed check          21.05        113.85    Yes  \n",
       "98  Bank transfer (automatic)          21.00       1107.20     No  \n",
       "99           Electronic check          98.50       2514.50    Yes  \n",
       "\n",
       "[100 rows x 21 columns]"
      ]
     },
     "execution_count": 3,
     "metadata": {},
     "output_type": "execute_result"
    }
   ],
   "source": [
    "df.head(100)"
   ]
  },
  {
   "cell_type": "markdown",
   "id": "9182678e",
   "metadata": {},
   "source": [
    "# compare churn count with respect to gender"
   ]
  },
  {
   "cell_type": "code",
   "execution_count": 9,
   "id": "94f63356",
   "metadata": {},
   "outputs": [
    {
     "name": "stdout",
     "output_type": "stream",
     "text": [
      "1.Compare churn count with respect to gender.\n"
     ]
    },
    {
     "data": {
      "image/png": "[encoded data removed]",
      "text/plain": [
       "<Figure size 432x288 with 1 Axes>"
      ]
     },
     "metadata": {},
     "output_type": "display_data"
    }
   ],
   "source": [
    "print('1.Compare churn count with respect to gender.')\n",
    "q1c=df[df['Churn']=='Yes']\n",
    "q1n=df[df['Churn']=='No']\n",
    "labels='Male','Male-Churn','Female','Female-Churn'\n",
    "sizes=[len(q1n[q1n['gender']=='Male'].index),len(q1c[q1c['gender']=='Male'].index),len(q1n[q1n['gender']=='Female'].index),len(q1c[q1c['gender']=='Female'].index)]\n",
    "explode=(0,0.1,0,0.1) #only 'explode'the 2nd slice(i.e. 'Hogs')\n",
    "\n",
    "plt.subplots()\n",
    "plt.pie(sizes,explode=explode,labels=labels,autopct='%1.1f%%',shadow=True,startangle=90)\n",
    "plt.axis('equal')\n",
    "plt.show()"
   ]
  },
  {
   "cell_type": "markdown",
   "id": "d2ca7a6c",
   "metadata": {},
   "source": [
    "# Find out how many female senior citizens there in the dataset"
   ]
  },
  {
   "cell_type": "code",
   "execution_count": 6,
   "id": "571724f6",
   "metadata": {},
   "outputs": [
    {
     "name": "stdout",
     "output_type": "stream",
     "text": [
      "Category_seniorcitizen\n",
      "Female Senior citizen     568\n",
      "Male Senior citizen       574\n",
      "Other females            2920\n",
      "Other males              2981\n",
      "dtype: int64\n"
     ]
    },
    {
     "data": {
      "text/plain": [
       "<AxesSubplot:title={'center':'Age & Gender based count'}>"
      ]
     },
     "execution_count": 6,
     "metadata": {},
     "output_type": "execute_result"
    },
    {
     "data": {
      "image/png": "[encoded data removed]",
      "text/plain": [
       "<Figure size 432x288 with 1 Axes>"
      ]
     },
     "metadata": {},
     "output_type": "display_data"
    }
   ],
   "source": [
    "df1=df.copy()\n",
    "conditions=[(df1['SeniorCitizen']==0) & (df1['gender']=='Male'),\n",
    "           (df1['SeniorCitizen']==0) & (df1['gender']=='Female'),\n",
    "           (df1['SeniorCitizen']==1) & (df1['gender']=='Male'),\n",
    "           (df1['SeniorCitizen']==1) & (df1['gender']=='Female')]\n",
    "values=['Other males','Other females','Male Senior citizen','Female Senior citizen']\n",
    "df1['Category_seniorcitizen']=np.select(conditions, values) ## creates a new category based on gender and senior citizenship\n",
    "\n",
    "print(df1.groupby('Category_seniorcitizen').size()) ## gives the count per category\n",
    "df1['Category_seniorcitizen'].value_counts(normalize=True).plot.pie(autopct='%.1f %%', ylabel='', legend=False, title='Age & Gender based count')\n"
   ]
  },
  {
   "cell_type": "markdown",
   "id": "380885f6",
   "metadata": {},
   "source": [
    "# Compare 'tenure' with 'Total Charges'"
   ]
  },
  {
   "cell_type": "code",
   "execution_count": 20,
   "id": "9edd4861",
   "metadata": {},
   "outputs": [
    {
     "name": "stdout",
     "output_type": "stream",
     "text": [
      "3. Compare 'tenure' with 'Total Charges'.\n"
     ]
    },
    {
     "data": {
      "text/plain": [
       "<function matplotlib.pyplot.show(close=None, block=None)>"
      ]
     },
     "execution_count": 20,
     "metadata": {},
     "output_type": "execute_result"
    },
    {
     "data": {
      "image/png": "[encoded data removed]",
      "text/plain": [
       "<Figure size 432x288 with 1 Axes>"
      ]
     },
     "metadata": {
      "needs_background": "light"
     },
     "output_type": "display_data"
    }
   ],
   "source": [
    "print(\"3. Compare 'tenure' with 'Total Charges'.\")\n",
    "tenure_mean = [df[df['tenure']<= 12.0][['TotalCharges']].mean(),df[df['tenure'].between(12.0,25.0)][['TotalCharges']].mean(),df[df['tenure'].between(24.0,37.0)][['TotalCharges']].mean(),df[df['tenure'].between(36.0,49.0)][['TotalCharges']].mean(),df[df['tenure'].between(48.0,61.0)][['TotalCharges']].mean(),df[df['tenure'].between(60.0,73.0)][['TotalCharges']].mean()]\n",
    "tenure_min = [df[df['tenure']<= 12.0][['TotalCharges']].min(),df[df['tenure'].between(12.0,25.0)][['TotalCharges']].min(),df[df['tenure'].between(24.0,37.0)][['TotalCharges']].min(),df[df['tenure'].between(36.0,49.0)][['TotalCharges']].min(),df[df['tenure'].between(48.0,61.0)][['TotalCharges']].min(),df[df['tenure'].between(60.0,73.0)][['TotalCharges']].min()]\n",
    "tenure_max = [df[df['tenure']<= 12.0][['TotalCharges']].max(),df[df['tenure'].between(12.0,25.0)][['TotalCharges']].max(),df[df['tenure'].between(24.0,37.0)][['TotalCharges']].max(),df[df['tenure'].between(36.0,49.0)][['TotalCharges']].max(),df[df['tenure'].between(48.0,61.0)][['TotalCharges']].max(),df[df['tenure'].between(60.0,73.0)][['TotalCharges']].max()]\n",
    "total=['1year','2years','3years','4years','5years','6years']\n",
    "plt.plot(total,tenure_mean,color='Blue')\n",
    "plt.plot(total,tenure_min,color='green')\n",
    "plt.plot(total,tenure_max,color='red')\n",
    "plt.show"
   ]
  },
  {
   "cell_type": "markdown",
   "id": "e5cc0456",
   "metadata": {},
   "source": [
    "# Find out which contract is preferred by the senior citizen.\n"
   ]
  },
  {
   "cell_type": "code",
   "execution_count": 5,
   "id": "0540a7e9",
   "metadata": {},
   "outputs": [
    {
     "data": {
      "text/plain": [
       "<seaborn.axisgrid.FacetGrid at 0x25f1c029c10>"
      ]
     },
     "execution_count": 5,
     "metadata": {},
     "output_type": "execute_result"
    },
    {
     "data": {
      "image/png": "[encoded data removed]",
      "text/plain": [
       "<Figure size 360x360 with 1 Axes>"
      ]
     },
     "metadata": {
      "needs_background": "light"
     },
     "output_type": "display_data"
    }
   ],
   "source": [
    "sen_cit=df.copy()\n",
    "sen_cit.loc[sen_cit['SeniorCitizen']==0] ## filters out senior citizens\n",
    "sns.catplot(x='Contract', kind=\"count\", data=sen_cit).set(title='Senior citizens contract preference')\n",
    "\n"
   ]
  },
  {
   "cell_type": "markdown",
   "id": "f236bd72",
   "metadata": {},
   "source": [
    "# Comment on your finds on Payment Method?"
   ]
  },
  {
   "cell_type": "code",
   "execution_count": 34,
   "id": "ebdfc0cc",
   "metadata": {},
   "outputs": [
    {
     "name": "stdout",
     "output_type": "stream",
     "text": [
      "5. Comment on your finds on Payment Method?\n",
      "['Electronic check' 'Mailed check' 'Credit card (automatic)'\n",
      " 'Bank transfer (automatic)']\n",
      "[1170, 778, 788, 752]\n"
     ]
    },
    {
     "data": {
      "text/plain": [
       "<function matplotlib.pyplot.show(close=None, block=None)>"
      ]
     },
     "execution_count": 34,
     "metadata": {},
     "output_type": "execute_result"
    },
    {
     "data": {
      "image/png": "[encoded data removed]",
      "text/plain": [
       "<Figure size 432x288 with 1 Axes>"
      ]
     },
     "metadata": {
      "needs_background": "light"
     },
     "output_type": "display_data"
    }
   ],
   "source": [
    "print('5. Comment on your finds on Payment Method?')\n",
    "PaymentMethod = df.PaymentMethod.unique()\n",
    "print(PaymentMethod)\n",
    "vals=[len(df[df['PaymentMethod'] == 'Electronic check'].index),len(df[df['PaymentMethod'] == 'Mailed check'].index),len(df[df['PaymentMethod'] == 'Bank transfer (automatic)'].index),len(df[df['PaymentMethod'] == 'Credit card (automatic)'].index)]\n",
    "print(vals)\n",
    "plt.bar(PaymentMethod,vals)\n",
    "plt.show      "
   ]
  },
  {
   "cell_type": "code",
   "execution_count": null,
   "id": "8d8c1d6f",
   "metadata": {},
   "outputs": [],
   "source": []
  }
 ],
 "metadata": {
  "kernelspec": {
   "display_name": "Python 3 (ipykernel)",
   "language": "python",
   "name": "python3"
  },
  "language_info": {
   "codemirror_mode": {
    "name": "ipython",
    "version": 3
   },
   "file_extension": ".py",
   "mimetype": "text/x-python",
   "name": "python",
   "nbconvert_exporter": "python",
   "pygments_lexer": "ipython3",
   "version": "3.9.7"
  }
 },
 "nbformat": 4,
 "nbformat_minor": 5
}
